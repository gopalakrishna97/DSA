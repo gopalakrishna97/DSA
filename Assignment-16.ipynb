{
 "cells": [
  {
   "cell_type": "markdown",
   "id": "493ccb2a",
   "metadata": {},
   "source": [
    "## Assignment-16"
   ]
  },
  {
   "cell_type": "markdown",
   "id": "91c27394",
   "metadata": {},
   "source": [
    "### Question 1\n",
    "\n",
    "Given an array, for each element find the value of the nearest element to the right which is having a frequency greater than that of the current element. If there does not exist an answer for a position, then make the value ‘-1’.\n",
    "\n",
    "**Examples:**\n",
    "\n",
    "```\n",
    "Input: a[] = [1, 1, 2, 3, 4, 2, 1]\n",
    "Output : [-1, -1, 1, 2, 2, 1, -1]\n",
    "\n",
    "Explanation:\n",
    "Given array a[] = [1, 1, 2, 3, 4, 2, 1]\n",
    "Frequency of each element is: 3, 3, 2, 1, 1, 2, 3\n",
    "\n",
    "Lets calls Next Greater Frequency element as NGF\n",
    "1. For element a[0] = 1 which has a frequency = 3,\n",
    "   As it has frequency of 3 and no other next element\n",
    "   has frequency more than 3 so  '-1'\n",
    "2. For element a[1] = 1 it will be -1 same logic\n",
    "   like a[0]\n",
    "3. For element a[2] = 2 which has frequency = 2,\n",
    "   NGF element is 1 at position = 6  with frequency\n",
    "   of 3 > 2\n",
    "4. For element a[3] = 3 which has frequency = 1,\n",
    "   NGF element is 2 at position = 5 with frequency\n",
    "   of 2 > 1\n",
    "5. For element a[4] = 4 which has frequency = 1,\n",
    "   NGF element is 2 at position = 5 with frequency\n",
    "   of 2 > 1\n",
    "6. For element a[5] = 2 which has frequency = 2,\n",
    "   NGF element is 1 at position = 6 with frequency\n",
    "   of 3 > 2\n",
    "7. For element a[6] = 1 there is no element to its\n",
    "   right, hence -1\n",
    "```\n",
    "\n",
    "```\n",
    "Input : a[] = [1, 1, 1, 2, 2, 2, 2, 11, 3, 3]\n",
    "Output : [2, 2, 2, -1, -1, -1, -1, 3, -1, -1]\n",
    "```"
   ]
  },
  {
   "cell_type": "code",
   "execution_count": 1,
   "id": "b582deaf",
   "metadata": {},
   "outputs": [
    {
     "name": "stdout",
     "output_type": "stream",
     "text": [
      "[-1, 1, 2, 2, 1, -1, -1]\n"
     ]
    }
   ],
   "source": [
    "def findNextGreaterFrequency(a):\n",
    "    frequencyMap = {}\n",
    "    result = []\n",
    "\n",
    "    for i in range(len(a) - 1, -1, -1):\n",
    "        if a[i] not in frequencyMap:\n",
    "            frequencyMap[a[i]] = 1\n",
    "        else:\n",
    "            frequencyMap[a[i]] += 1\n",
    "\n",
    "    for i in range(len(a)):\n",
    "        currentElement = a[i]\n",
    "        frequency = frequencyMap[currentElement]\n",
    "        nextGreaterFrequency = -1\n",
    "\n",
    "        for j in range(i + 1, len(a)):\n",
    "            if frequencyMap[a[j]] > frequency and a[j] != currentElement:\n",
    "                nextGreaterFrequency = a[j]\n",
    "                break\n",
    "\n",
    "        result.append(nextGreaterFrequency)\n",
    "\n",
    "    result.reverse()\n",
    "    return result\n",
    "\n",
    "\n",
    "a = [1, 1, 2, 3, 4, 2, 1]\n",
    "result = findNextGreaterFrequency(a)\n",
    "print(result)\n"
   ]
  },
  {
   "cell_type": "markdown",
   "id": "2b3c9be6",
   "metadata": {},
   "source": [
    "### Question 2\n",
    "\n",
    "Given a stack of integers, sort it in ascending order using another temporary stack.\n",
    "\n",
    "**Examples:**\n",
    "\n",
    "```\n",
    "Input : [34, 3, 31, 98, 92, 23]\n",
    "Output : [3, 23, 31, 34, 92, 98]\n",
    "\n",
    "Input : [3, 5, 1, 4, 2, 8]\n",
    "Output : [1, 2, 3, 4, 5, 8]\n",
    "```"
   ]
  },
  {
   "cell_type": "code",
   "execution_count": 2,
   "id": "cb8f1b9c",
   "metadata": {},
   "outputs": [
    {
     "name": "stdout",
     "output_type": "stream",
     "text": [
      "[98, 92, 34, 31, 23, 3]\n"
     ]
    }
   ],
   "source": [
    "def sortStack(stack):\n",
    "    tempStack = []\n",
    "\n",
    "    while stack:\n",
    "        temp = stack.pop()\n",
    "\n",
    "        while tempStack and tempStack[-1] > temp:\n",
    "            stack.append(tempStack.pop())\n",
    "\n",
    "        tempStack.append(temp)\n",
    "\n",
    "    tempStack.reverse()\n",
    "\n",
    "    return tempStack\n",
    "\n",
    "stack = [34, 3, 31, 98, 92, 23]\n",
    "result = sortStack(stack)\n",
    "print(result)\n"
   ]
  },
  {
   "cell_type": "markdown",
   "id": "0257712b",
   "metadata": {},
   "source": [
    "### Question 3\n",
    "\n",
    "Given a stack with **push()**, **pop()**, and **empty()** operations, The task is to delete the **middle** element ****of it without using any additional data structure.\n",
    "\n",
    "Input  : Stack[] = [1, 2, 3, 4, 5]\n",
    "\n",
    "Output : Stack[] = [1, 2, 4, 5]\n",
    "\n",
    "Input  : Stack[] = [1, 2, 3, 4, 5, 6]\n",
    "\n",
    "Output : Stack[] = [1, 2, 4, 5, 6]\n"
   ]
  },
  {
   "cell_type": "code",
   "execution_count": 3,
   "id": "0a5bdbfc",
   "metadata": {},
   "outputs": [
    {
     "name": "stdout",
     "output_type": "stream",
     "text": [
      "[1, 2, 4, 5]\n"
     ]
    }
   ],
   "source": [
    "def deleteMiddleElement(stack):\n",
    "    size = len(stack)\n",
    "    count = 0\n",
    "    tempStack = []\n",
    "\n",
    "    while stack:\n",
    "        temp = stack.pop()\n",
    "        count += 1\n",
    "\n",
    "        if count != size // 2 + 1:\n",
    "            tempStack.append(temp)\n",
    "\n",
    "    while tempStack:\n",
    "        stack.append(tempStack.pop())\n",
    "\n",
    "    return stack\n",
    "\n",
    "\n",
    "stack = [1, 2, 3, 4, 5]\n",
    "result = deleteMiddleElement(stack)\n",
    "print(result)\n"
   ]
  },
  {
   "cell_type": "markdown",
   "id": "3cd85867",
   "metadata": {},
   "source": [
    "### Question 4\n",
    "\n",
    "Given a Queue consisting of first **n** natural numbers (in random order). The task is to check whether the given Queue elements can be arranged in increasing order in another Queue using a stack. The operation allowed are:\n",
    "\n",
    "1. Push and pop elements from the stack\n",
    "2. Pop (Or Dequeue) from the given Queue.\n",
    "3. Push (Or Enqueue) in the another Queue.\n",
    "\n",
    "**Examples :**\n",
    "\n",
    "Input : Queue[] = { 5, 1, 2, 3, 4 } \n",
    "\n",
    "Output : Yes \n",
    "\n",
    "Pop the first element of the given Queue \n",
    "\n",
    "i.e 5. Push 5 into the stack. \n",
    "\n",
    "Now, pop all the elements of the given Queue and push them to second Queue. \n",
    "\n",
    "Now, pop element 5 in the stack and push it to the second Queue.   \n",
    "\n",
    "Input : Queue[] = { 5, 1, 2, 6, 3, 4 } \n",
    "\n",
    "Output : No \n",
    "\n",
    "Push 5 to stack. \n",
    "\n",
    "Pop 1, 2 from given Queue and push it to another Queue. \n",
    "\n",
    "Pop 6 from given Queue and push to stack. \n",
    "\n",
    "Pop 3, 4 from given Queue and push to second Queue. \n",
    "\n",
    "Now, from using any of above operation, we cannot push 5 into the second Queue because it is below the 6 in the stack."
   ]
  },
  {
   "cell_type": "code",
   "execution_count": 4,
   "id": "8d987498",
   "metadata": {},
   "outputs": [
    {
     "name": "stdout",
     "output_type": "stream",
     "text": [
      "No\n"
     ]
    }
   ],
   "source": [
    "from queue import Queue\n",
    "\n",
    "def checkArrangement(queue):\n",
    "    stack = []\n",
    "    expected = 1\n",
    "\n",
    "    while not queue.empty():\n",
    "        if queue.queue[0] == expected:\n",
    "            queue.get()\n",
    "            expected += 1\n",
    "        elif stack and stack[-1] == expected:\n",
    "            stack.pop()\n",
    "            expected += 1\n",
    "        else:\n",
    "            stack.append(queue.get())\n",
    "\n",
    "    while stack:\n",
    "        if stack[-1] == expected:\n",
    "            stack.pop()\n",
    "            expected += 1\n",
    "        else:\n",
    "            break\n",
    "\n",
    "    if not stack and expected == queue.qsize() + 1:\n",
    "        return \"Yes\"\n",
    "    else:\n",
    "        return \"No\"\n",
    "\n",
    "queue = Queue()\n",
    "queue.put(5)\n",
    "queue.put(1)\n",
    "queue.put(2)\n",
    "queue.put(3)\n",
    "queue.put(4)\n",
    "result = checkArrangement(queue)\n",
    "print(result)\n"
   ]
  },
  {
   "cell_type": "markdown",
   "id": "439ee942",
   "metadata": {},
   "source": [
    "### Question 5\n",
    "\n",
    "Given a number , write a program to reverse this number using stack.\n",
    "\n",
    "**Examples:**\n",
    "\n",
    "```\n",
    "Input : 365\n",
    "Output : 563\n",
    "\n",
    "Input : 6899\n",
    "Output : 9986\n",
    "```"
   ]
  },
  {
   "cell_type": "code",
   "execution_count": 5,
   "id": "df1fc82d",
   "metadata": {},
   "outputs": [
    {
     "name": "stdout",
     "output_type": "stream",
     "text": [
      "563\n"
     ]
    }
   ],
   "source": [
    "def reverseNumber(number):\n",
    "    numberStr = str(number)\n",
    "    stack = []\n",
    "\n",
    "    for digit in numberStr:\n",
    "        stack.append(digit)\n",
    "\n",
    "    reversedNumber = \"\"\n",
    "\n",
    "    while stack:\n",
    "        reversedNumber += stack.pop()\n",
    "\n",
    "    reversedNumber = int(reversedNumber)\n",
    "\n",
    "    return reversedNumber\n",
    "\n",
    "\n",
    "number = 365\n",
    "result = reverseNumber(number)\n",
    "print(result)\n"
   ]
  },
  {
   "cell_type": "markdown",
   "id": "dcea4e6e",
   "metadata": {},
   "source": [
    "### Question 6\n",
    "\n",
    "Given an integer k and a **[queue](https://www.geeksforgeeks.org/queue-data-structure/)** of integers, The task is to reverse the order of the first **k** elements of the queue, leaving the other elements in the same relative order.\n",
    "\n",
    "Only following standard operations are allowed on queue.\n",
    "\n",
    "- **enqueue(x) :** Add an item x to rear of queue\n",
    "- **dequeue() :** Remove an item from front of queue\n",
    "- **size() :** Returns number of elements in queue.\n",
    "- **front() :** Finds front item."
   ]
  },
  {
   "cell_type": "code",
   "execution_count": 6,
   "id": "014e426c",
   "metadata": {},
   "outputs": [
    {
     "name": "stdout",
     "output_type": "stream",
     "text": [
      "3\n",
      "2\n",
      "1\n",
      "4\n",
      "5\n"
     ]
    }
   ],
   "source": [
    "from queue import Queue\n",
    "\n",
    "def reverseKElements(queue, k):\n",
    "    stack = []\n",
    "    tempQueue = Queue()\n",
    "\n",
    "    for _ in range(k):\n",
    "        stack.append(queue.get())\n",
    "\n",
    "    while not queue.empty():\n",
    "        tempQueue.put(queue.get())\n",
    "\n",
    "    while stack:\n",
    "        queue.put(stack.pop())\n",
    "\n",
    "    while not tempQueue.empty():\n",
    "        queue.put(tempQueue.get())\n",
    "\n",
    "    return queue\n",
    "\n",
    "\n",
    "queue = Queue()\n",
    "queue.put(1)\n",
    "queue.put(2)\n",
    "queue.put(3)\n",
    "queue.put(4)\n",
    "queue.put(5)\n",
    "k = 3\n",
    "result = reverseKElements(queue, k)\n",
    "\n",
    "while not result.empty():\n",
    "    print(result.get())\n"
   ]
  },
  {
   "cell_type": "markdown",
   "id": "19b3218c",
   "metadata": {},
   "source": [
    "### Question 7\n",
    "\n",
    "Given a sequence of n strings, the task is to check if any two similar words come together and then destroy each other then print the number of words left in the sequence after this pairwise destruction.\n",
    "\n",
    "**Examples:**\n",
    "\n",
    "Input : ab aa aa bcd ab\n",
    "\n",
    "Output : 3\n",
    "\n",
    "*As aa, aa destroys each other so,*\n",
    "\n",
    "*ab bcd ab is the new sequence.*\n",
    "\n",
    "Input :  tom jerry jerry tom\n",
    "\n",
    "Output : 0\n",
    "\n",
    "*As first both jerry will destroy each other.*\n",
    "\n",
    "*Then sequence will be tom, tom they will also destroy*\n",
    "\n",
    "*each other. So, the final sequence doesn’t contain any*\n",
    "\n",
    "*word.*"
   ]
  },
  {
   "cell_type": "code",
   "execution_count": 7,
   "id": "011d0e61",
   "metadata": {},
   "outputs": [
    {
     "name": "stdout",
     "output_type": "stream",
     "text": [
      "3\n"
     ]
    }
   ],
   "source": [
    "def countRemainingWords(sequence):\n",
    "    stack = []\n",
    "\n",
    "    for word in sequence:\n",
    "        if not stack:\n",
    "            stack.append(word)\n",
    "        elif stack[-1] == word:\n",
    "            stack.pop()\n",
    "        else:\n",
    "            stack.append(word)\n",
    "\n",
    "    return len(stack)\n",
    "\n",
    "\n",
    "sequence = [\"ab\", \"aa\", \"aa\", \"bcd\", \"ab\"]\n",
    "result = countRemainingWords(sequence)\n",
    "print(result)\n"
   ]
  },
  {
   "cell_type": "markdown",
   "id": "47ad1de5",
   "metadata": {},
   "source": [
    "### Question 8\n",
    "\n",
    "Given an array of integers, the task is to find the maximum absolute difference between the nearest left and the right smaller element of every element in the array.\n",
    "\n",
    "**Note:** If there is no smaller element on right side or left side of any element then we take zero as the smaller element. For example for the leftmost element, the nearest smaller element on the left side is considered as 0. Similarly, for rightmost elements, the smaller element on the right side is considered as 0.\n",
    "\n",
    "**Examples:**\n",
    "\n",
    "```\n",
    "Input : arr[] = {2, 1, 8}\n",
    "Output : 1\n",
    "Left smaller  LS[] {0, 0, 1}\n",
    "Right smaller RS[] {1, 0, 0}\n",
    "Maximum Diff of abs(LS[i] - RS[i]) = 1\n",
    "\n",
    "Input  : arr[] = {2, 4, 8, 7, 7, 9, 3}\n",
    "Output : 4\n",
    "Left smaller   LS[] = {0, 2, 4, 4, 4, 7, 2}\n",
    "Right smaller  RS[] = {0, 3, 7, 3, 3, 3, 0}\n",
    "Maximum Diff of abs(LS[i] - RS[i]) = 7 - 3 = 4\n",
    "\n",
    "Input : arr[] = {5, 1, 9, 2, 5, 1, 7}\n",
    "Output : 1\n",
    "```"
   ]
  },
  {
   "cell_type": "code",
   "execution_count": 8,
   "id": "001c20f3",
   "metadata": {},
   "outputs": [
    {
     "name": "stdout",
     "output_type": "stream",
     "text": [
      "1\n"
     ]
    }
   ],
   "source": [
    "def maxAbsDiff(arr):\n",
    "    n = len(arr)\n",
    "    leftStack = []\n",
    "    rightStack = []\n",
    "    leftSmaller = [0] * n\n",
    "    rightSmaller = [0] * n\n",
    "\n",
    "    for i in range(n):\n",
    "        while leftStack and leftStack[-1] >= arr[i]:\n",
    "            leftStack.pop()\n",
    "        if leftStack:\n",
    "            leftSmaller[i] = leftStack[-1]\n",
    "        leftStack.append(arr[i])\n",
    "\n",
    "    for i in range(n - 1, -1, -1):\n",
    "        while rightStack and rightStack[-1] >= arr[i]:\n",
    "            rightStack.pop()\n",
    "        if rightStack:\n",
    "            rightSmaller[i] = rightStack[-1]\n",
    "        rightStack.append(arr[i])\n",
    "\n",
    "    maxDiff = 0\n",
    "\n",
    "    for i in range(n):\n",
    "        diff = abs(leftSmaller[i] - rightSmaller[i])\n",
    "        maxDiff = max(maxDiff, diff)\n",
    "\n",
    "    return maxDiff\n",
    "\n",
    "\n",
    "# Test the maxAbsDiff function\n",
    "arr = [2, 1, 8]\n",
    "result = maxAbsDiff(arr)\n",
    "print(result)\n"
   ]
  }
 ],
 "metadata": {
  "kernelspec": {
   "display_name": "Python 3 (ipykernel)",
   "language": "python",
   "name": "python3"
  },
  "language_info": {
   "codemirror_mode": {
    "name": "ipython",
    "version": 3
   },
   "file_extension": ".py",
   "mimetype": "text/x-python",
   "name": "python",
   "nbconvert_exporter": "python",
   "pygments_lexer": "ipython3",
   "version": "3.9.16"
  }
 },
 "nbformat": 4,
 "nbformat_minor": 5
}

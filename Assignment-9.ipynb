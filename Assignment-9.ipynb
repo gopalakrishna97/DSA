{
 "cells": [
  {
   "cell_type": "markdown",
   "id": "ba39b860",
   "metadata": {},
   "source": [
    "## Assignment-9"
   ]
  },
  {
   "cell_type": "markdown",
   "id": "01ca1049",
   "metadata": {},
   "source": [
    "### Question 1\n",
    "\n",
    "Given an integer `n`, return *`true` if it is a power of two. Otherwise, return `false`*.\n",
    "\n",
    "An integer `n` is a power of two, if there exists an integer `x` such that `n == 2x`.\n",
    "\n",
    "**Example 1:**\n",
    "Input: n = 1 \n",
    "\n",
    "Output: true\n",
    "\n",
    "**Example 2:**\n",
    "Input: n = 16 \n",
    "\n",
    "Output: true\n",
    "\n",
    "**Example 3:**\n",
    "Input: n = 3 \n",
    "\n",
    "Output: false"
   ]
  },
  {
   "cell_type": "code",
   "execution_count": 2,
   "id": "9e79b6ca",
   "metadata": {},
   "outputs": [
    {
     "name": "stdout",
     "output_type": "stream",
     "text": [
      "True\n",
      "True\n",
      "False\n"
     ]
    }
   ],
   "source": [
    "def isPowerOfTwo(n):\n",
    "    if (n == 0):\n",
    "        return False\n",
    "    while (n != 1):\n",
    "        if (n % 2 != 0):\n",
    "            return False\n",
    "        n = n // 2\n",
    " \n",
    "    return True\n",
    " \n",
    "print(isPowerOfTwo(1))\n",
    "print(isPowerOfTwo(16))\n",
    "print(isPowerOfTwo(3))\n"
   ]
  },
  {
   "cell_type": "markdown",
   "id": "009a7158",
   "metadata": {},
   "source": [
    "### Question 2\n",
    "\n",
    "Given a number n, find the sum of the first natural numbers.\n",
    "\n",
    "**Example 1:**\n",
    "\n",
    "Input: n = 3 \n",
    "\n",
    "Output: 6\n",
    "\n",
    "**Example 2:**\n",
    "\n",
    "Input  : 5 \n",
    "\n",
    "Output : 15"
   ]
  },
  {
   "cell_type": "code",
   "execution_count": 5,
   "id": "c8bdb728",
   "metadata": {},
   "outputs": [
    {
     "name": "stdout",
     "output_type": "stream",
     "text": [
      "6.0\n",
      "15.0\n"
     ]
    }
   ],
   "source": [
    "def findSum(n) :\n",
    "    return n * (n + 1) / 2\n",
    "     \n",
    "print(findSum(3))\n",
    "print(findSum(5))"
   ]
  },
  {
   "cell_type": "markdown",
   "id": "643e2b65",
   "metadata": {},
   "source": [
    "### Question 3\n",
    "\n",
    "Given a positive integer, N. Find the factorial of N. \n",
    "\n",
    "**Example 1:**\n",
    "\n",
    "Input: N = 5 \n",
    "\n",
    "Output: 120\n",
    "\n",
    "**Example 2:**\n",
    "\n",
    "Input: N = 4\n",
    "\n",
    "Output: 24"
   ]
  },
  {
   "cell_type": "code",
   "execution_count": 7,
   "id": "6d69e8e9",
   "metadata": {},
   "outputs": [
    {
     "name": "stdout",
     "output_type": "stream",
     "text": [
      "Factorial of 5 is 120\n",
      "Factorial of 4 is 24\n"
     ]
    }
   ],
   "source": [
    "def factorial(n):\n",
    "       \n",
    "    if n == 0:\n",
    "        return 1\n",
    "      \n",
    "    return n * factorial(n-1)\n",
    "   \n",
    "print(\"Factorial of\", 5, \"is\",factorial(5))\n",
    "print(\"Factorial of\", 4, \"is\",factorial(4))"
   ]
  },
  {
   "cell_type": "markdown",
   "id": "84e02665",
   "metadata": {},
   "source": [
    "### Question 4\n",
    "\n",
    "Given a number N and a power P, the task is to find the exponent of this number raised to the given power, i.e. N^P.\n",
    "\n",
    "**Example 1 :** \n",
    "\n",
    "Input: N = 5, P = 2\n",
    "\n",
    "Output: 25\n",
    "\n",
    "**Example 2 :**\n",
    "Input: N = 2, P = 5\n",
    "\n",
    "Output: 32\n"
   ]
  },
  {
   "cell_type": "code",
   "execution_count": 10,
   "id": "6010fa15",
   "metadata": {},
   "outputs": [
    {
     "name": "stdout",
     "output_type": "stream",
     "text": [
      "25\n",
      "32\n"
     ]
    }
   ],
   "source": [
    "def power(N, P):\n",
    "    if P == 0:\n",
    "        return 1\n",
    "    \n",
    "    return (N*power(N, P-1))\n",
    "\n",
    "print(power(5,2))\n",
    "print(power(2,5))"
   ]
  },
  {
   "cell_type": "markdown",
   "id": "dd12b51f",
   "metadata": {},
   "source": [
    "### Question 5\n",
    "\n",
    "Given an array of integers **arr**, the task is to find maximum element of that array using recursion.\n",
    "\n",
    "**Example 1:**\n",
    "\n",
    "Input: arr = {1, 4, 3, -5, -4, 8, 6};\n",
    "Output: 8\n",
    "\n",
    "**Example 2:**\n",
    "\n",
    "Input: arr = {1, 4, 45, 6, 10, -8};\n",
    "Output: 45"
   ]
  },
  {
   "cell_type": "code",
   "execution_count": 11,
   "id": "012b1b65",
   "metadata": {},
   "outputs": [
    {
     "name": "stdout",
     "output_type": "stream",
     "text": [
      "8\n",
      "45\n"
     ]
    }
   ],
   "source": [
    "def find_max(arr):\n",
    "    if len(arr) == 1:\n",
    "        return arr[0]\n",
    "    \n",
    "    mid = len(arr) // 2\n",
    "    left_max = find_max(arr[:mid])\n",
    "    right_max = find_max(arr[mid:])\n",
    "    \n",
    "    return max(left_max, right_max)\n",
    "\n",
    "arr = [1, 4, 3, -5, -4, 8, 6]\n",
    "print(find_max(arr)) \n",
    "\n",
    "arr = [1, 4, 45, 6, 10, -8]\n",
    "print(find_max(arr)) "
   ]
  },
  {
   "cell_type": "markdown",
   "id": "621248a7",
   "metadata": {},
   "source": [
    "### Question 6\n",
    "\n",
    "Given first term (a), common difference (d) and a integer N of the Arithmetic Progression series, the task is to find Nth term of the series.\n",
    "\n",
    "**Example 1:**\n",
    "\n",
    "Input : a = 2 d = 1 N = 5\n",
    "Output : 6\n",
    "The 5th term of the series is : 6\n",
    "\n",
    "**Example 2:**\n",
    "\n",
    "Input : a = 5 d = 2 N = 10\n",
    "Output : 23\n",
    "The 10th term of the series is : 23"
   ]
  },
  {
   "cell_type": "code",
   "execution_count": 13,
   "id": "1f4cbcc6",
   "metadata": {},
   "outputs": [
    {
     "name": "stdout",
     "output_type": "stream",
     "text": [
      "The 5th term of the series is: 6\n",
      "The 10th term of the series is: 23\n"
     ]
    }
   ],
   "source": [
    "def find_nth_term(a, d, n):\n",
    "    nth_term = a + (n - 1) * d\n",
    "    return nth_term\n",
    "\n",
    "# Example usage:\n",
    "a = 2\n",
    "d = 1\n",
    "n = 5\n",
    "print(f\"The {n}th term of the series is: {find_nth_term(a, d, n)}\")\n",
    "\n",
    "a = 5\n",
    "d = 2\n",
    "n = 10\n",
    "print(f\"The {n}th term of the series is: {find_nth_term(a, d, n)}\")\n"
   ]
  },
  {
   "cell_type": "markdown",
   "id": "c293a9aa",
   "metadata": {},
   "source": [
    "### Question 7\n",
    "\n",
    "Given a string S, the task is to write a program to print all permutations of a given string.\n",
    "\n",
    "**Example 1:**\n",
    "\n",
    "***Input:***\n",
    "\n",
    "*S = “ABC”*\n",
    "\n",
    "***Output:***\n",
    "\n",
    "*“ABC”, “ACB”, “BAC”, “BCA”, “CBA”, “CAB”*\n",
    "\n",
    "**Example 2:**\n",
    "\n",
    "***Input:***\n",
    "\n",
    "*S = “XY”*\n",
    "\n",
    "***Output:***\n",
    "\n",
    "*“XY”, “YX”*"
   ]
  },
  {
   "cell_type": "code",
   "execution_count": 14,
   "id": "7d9e3c3f",
   "metadata": {},
   "outputs": [
    {
     "name": "stdout",
     "output_type": "stream",
     "text": [
      "Permutations of 'ABC' are: ['ABC', 'ACB', 'BAC', 'BCA', 'CAB', 'CBA']\n",
      "Permutations of 'XY' are: ['XY', 'YX']\n"
     ]
    }
   ],
   "source": [
    "def permute(s):\n",
    "    if len(s) == 1:\n",
    "        return [s]\n",
    "\n",
    "    permutations = []\n",
    "    for i in range(len(s)):\n",
    "        first_char = s[i]\n",
    "        remaining_chars = s[:i] + s[i+1:]\n",
    "        for perm in permute(remaining_chars):\n",
    "            permutations.append(first_char + perm)\n",
    "\n",
    "    return permutations\n",
    "\n",
    "s = \"ABC\"\n",
    "permutations = permute(s)\n",
    "print(\"Permutations of '{}' are: {}\".format(s, permutations))\n",
    "\n",
    "s = \"XY\"\n",
    "permutations = permute(s)\n",
    "print(\"Permutations of '{}' are: {}\".format(s, permutations))\n"
   ]
  },
  {
   "cell_type": "markdown",
   "id": "b83c1a68",
   "metadata": {},
   "source": [
    "### Question 8\n",
    "\n",
    "Given an array, find a product of all array elements.\n",
    "\n",
    "**Example 1:**\n",
    "\n",
    "Input  : arr[] = {1, 2, 3, 4, 5}\n",
    "Output : 120\n",
    "**Example 2:**\n",
    "\n",
    "Input  : arr[] = {1, 6, 3}\n",
    "Output : 18"
   ]
  },
  {
   "cell_type": "code",
   "execution_count": 16,
   "id": "572e150e",
   "metadata": {},
   "outputs": [
    {
     "name": "stdout",
     "output_type": "stream",
     "text": [
      "120\n",
      "18\n"
     ]
    }
   ],
   "source": [
    "def product(arr):\n",
    "    product = 1\n",
    "    for ele in arr:\n",
    "        product *= ele\n",
    "    return product\n",
    "print(product([1,2,3,4,5]))\n",
    "print(product([1,6,3]))"
   ]
  },
  {
   "cell_type": "code",
   "execution_count": null,
   "id": "ab69f0ef",
   "metadata": {},
   "outputs": [],
   "source": []
  }
 ],
 "metadata": {
  "kernelspec": {
   "display_name": "Python 3 (ipykernel)",
   "language": "python",
   "name": "python3"
  },
  "language_info": {
   "codemirror_mode": {
    "name": "ipython",
    "version": 3
   },
   "file_extension": ".py",
   "mimetype": "text/x-python",
   "name": "python",
   "nbconvert_exporter": "python",
   "pygments_lexer": "ipython3",
   "version": "3.9.16"
  }
 },
 "nbformat": 4,
 "nbformat_minor": 5
}

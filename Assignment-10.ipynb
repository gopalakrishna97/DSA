{
 "cells": [
  {
   "cell_type": "markdown",
   "id": "73ff8d34",
   "metadata": {},
   "source": [
    "## Assignment-10"
   ]
  },
  {
   "cell_type": "markdown",
   "id": "27278059",
   "metadata": {},
   "source": [
    "### Question 1\n",
    "\n",
    "Given an integer `n`, return *`true` if it is a power of three. Otherwise, return `false`*.\n",
    "\n",
    "An integer `n` is a power of three, if there exists an integer `x` such that `n == 3x`.\n",
    "\n",
    "**Example 1:**\n",
    "\n",
    "```\n",
    "Input: n = 27\n",
    "Output: true\n",
    "Explanation: 27 = 33\n",
    "```\n",
    "\n",
    "**Example 2:**\n",
    "\n",
    "```\n",
    "Input: n = 0\n",
    "Output: false\n",
    "Explanation: There is no x where 3x = 0.\n",
    "\n",
    "```\n",
    "\n",
    "**Example 3:**\n",
    "```\n",
    "Input: n = -1\n",
    "Output: false\n",
    "Explanation: There is no x where 3x = (-1).\n",
    "```"
   ]
  },
  {
   "cell_type": "code",
   "execution_count": 1,
   "id": "e007aa06",
   "metadata": {},
   "outputs": [
    {
     "name": "stdout",
     "output_type": "stream",
     "text": [
      "True\n",
      "False\n",
      "False\n"
     ]
    }
   ],
   "source": [
    "def isPowerOfThree(n):\n",
    "    if n <= 0:\n",
    "        return False\n",
    "\n",
    "    while n % 3 == 0:\n",
    "        n /= 3\n",
    "\n",
    "    return n == 1\n",
    "\n",
    "\n",
    "print(isPowerOfThree(27))\n",
    "print(isPowerOfThree(0))\n",
    "print(isPowerOfThree(-1))"
   ]
  },
  {
   "cell_type": "markdown",
   "id": "e3daa5f4",
   "metadata": {},
   "source": [
    "### Question 2\n",
    "\n",
    "You have a list `arr` of all integers in the range `[1, n]` sorted in a strictly increasing order. Apply the following algorithm on `arr`:\n",
    "\n",
    "- Starting from left to right, remove the first number and every other number afterward until you reach the end of the list.\n",
    "- Repeat the previous step again, but this time from right to left, remove the rightmost number and every other number from the remaining numbers.\n",
    "- Keep repeating the steps again, alternating left to right and right to left, until a single number remains.\n",
    "\n",
    "Given the integer `n`, return *the last number that remains in* `arr`.\n",
    "\n",
    "**Example 1:**\n",
    "\n",
    "```\n",
    "Input: n = 9\n",
    "Output: 6\n",
    "Explanation:\n",
    "arr = [1, 2,3, 4,5, 6,7, 8,9]\n",
    "arr = [2,4, 6,8]\n",
    "arr = [2, 6]\n",
    "arr = [6]\n",
    "\n",
    "```\n",
    "\n",
    "**Example 2:**\n",
    "\n",
    "```\n",
    "Input: n = 1\n",
    "Output: 1\n",
    "```\n"
   ]
  },
  {
   "cell_type": "code",
   "execution_count": 2,
   "id": "92bbcecd",
   "metadata": {},
   "outputs": [
    {
     "name": "stdout",
     "output_type": "stream",
     "text": [
      "6\n",
      "1\n"
     ]
    }
   ],
   "source": [
    "def lastRemaining(n):\n",
    "    remaining = start = 1\n",
    "    step = 1\n",
    "    leftToRight = True\n",
    "\n",
    "    while n > 1:\n",
    "        if leftToRight or n % 2 == 1:\n",
    "            remaining += step\n",
    "\n",
    "        n //= 2\n",
    "        start += step\n",
    "        step *= 2\n",
    "        leftToRight = not leftToRight\n",
    "\n",
    "    return remaining\n",
    "\n",
    "print(lastRemaining(9))\n",
    "print(lastRemaining(1)) "
   ]
  },
  {
   "cell_type": "markdown",
   "id": "df0fd061",
   "metadata": {},
   "source": [
    "### Question 3\n",
    "\n",
    "Given a set represented as a string, write a recursive code to print all subsets of it. The subsets can be printed in any order.\n",
    "\n",
    "**Example 1:**\n",
    "\n",
    "Input :  set = “abc”\n",
    "\n",
    "Output : { “”, “a”, “b”, “c”, “ab”, “ac”, “bc”, “abc”}\n",
    "\n",
    "**Example 2:**\n",
    "\n",
    "Input : set = “abcd”\n",
    "\n",
    "Output : { “”, “a” ,”ab” ,”abc” ,”abcd”, “abd” ,”ac” ,”acd”, “ad” ,”b”, “bc” ,”bcd” ,”bd” ,”c” ,”cd” ,”d” }"
   ]
  },
  {
   "cell_type": "code",
   "execution_count": 3,
   "id": "86744b88",
   "metadata": {},
   "outputs": [
    {
     "name": "stdout",
     "output_type": "stream",
     "text": [
      "abc\n",
      "ab\n",
      "ac\n",
      "a\n",
      "bc\n",
      "b\n",
      "c\n",
      "\n",
      "abcd\n",
      "abc\n",
      "abd\n",
      "ab\n",
      "acd\n",
      "ac\n",
      "ad\n",
      "a\n",
      "bcd\n",
      "bc\n",
      "bd\n",
      "b\n",
      "cd\n",
      "c\n",
      "d\n",
      "\n"
     ]
    }
   ],
   "source": [
    "def printSubsets(set_str, subset, index):\n",
    "    if index == len(set_str):\n",
    "        print(subset)\n",
    "        return\n",
    "\n",
    "    printSubsets(set_str, subset + set_str[index], index + 1)\n",
    "    printSubsets(set_str, subset, index + 1)\n",
    "\n",
    "\n",
    "def printAllSubsets(set_str):\n",
    "    printSubsets(set_str, \"\", 0)\n",
    "    \n",
    "printAllSubsets(\"abc\")\n",
    "printAllSubsets(\"abcd\")\n"
   ]
  },
  {
   "cell_type": "markdown",
   "id": "fc408b92",
   "metadata": {},
   "source": [
    "### Question 4\n",
    "\n",
    "Given a string calculate length of the string using recursion.\n",
    "\n",
    "**Examples:**\n",
    "\n",
    "```\n",
    "Input : str = \"abcd\"\n",
    "Output :4\n",
    "\n",
    "Input : str = \"GEEKSFORGEEKS\"\n",
    "Output :13\n",
    "```\n"
   ]
  },
  {
   "cell_type": "code",
   "execution_count": 4,
   "id": "3cea9313",
   "metadata": {},
   "outputs": [
    {
     "name": "stdout",
     "output_type": "stream",
     "text": [
      "4\n",
      "13\n"
     ]
    }
   ],
   "source": [
    "def calculateLength(string, index):\n",
    "    if index == len(string):\n",
    "        return 0\n",
    "    else:\n",
    "        return 1 + calculateLength(string, index + 1)\n",
    "\n",
    "def lengthOfString(string):\n",
    "    return calculateLength(string, 0)\n",
    "\n",
    "print(lengthOfString(\"abcd\"))\n",
    "print(lengthOfString(\"GEEKSFORGEEKS\"))\n"
   ]
  },
  {
   "cell_type": "markdown",
   "id": "44993885",
   "metadata": {},
   "source": [
    "### Question 5\n",
    "\n",
    "We are given a string S, we need to find count of all contiguous substrings starting and ending with same character.\n",
    "\n",
    "**Examples :**\n",
    "\n",
    "```\n",
    "Input  : S = \"abcab\"\n",
    "Output : 7\n",
    "There are 15 substrings of \"abcab\"\n",
    "a, ab, abc, abca, abcab, b, bc, bca\n",
    "bcab, c, ca, cab, a, ab, b\n",
    "Out of the above substrings, there\n",
    "are 7 substrings : a, abca, b, bcab,\n",
    "c, a and b.\n",
    "\n",
    "Input  : S = \"aba\"\n",
    "Output : 4\n",
    "The substrings are a, b, a and aba\n",
    "```"
   ]
  },
  {
   "cell_type": "code",
   "execution_count": 10,
   "id": "712239a4",
   "metadata": {},
   "outputs": [
    {
     "name": "stdout",
     "output_type": "stream",
     "text": [
      "5\n",
      "4\n"
     ]
    }
   ],
   "source": [
    "def countSubstrings(S):\n",
    "    n = len(S)\n",
    "    count = 0\n",
    "    dp = [[False] * n for _ in range(n)]\n",
    "\n",
    "    for i in range(n):\n",
    "        dp[i][i] = True\n",
    "        count += 1\n",
    "\n",
    "    for length in range(2, n + 1):\n",
    "        for i in range(n - length + 1):\n",
    "            j = i + length - 1\n",
    "            if S[i] == S[j]:\n",
    "                if length == 2:\n",
    "                    dp[i][j] = True\n",
    "                elif dp[i + 1][j - 1]:\n",
    "                    dp[i][j] = True\n",
    "                    count += 1\n",
    "\n",
    "    return count\n",
    "\n",
    "print(countSubstrings(\"abcab\"))\n",
    "print(countSubstrings(\"aba\"))"
   ]
  },
  {
   "cell_type": "markdown",
   "id": "8ee81e34",
   "metadata": {},
   "source": [
    "### Question 6\n",
    "\n",
    "The [tower of Hanoi](https://en.wikipedia.org/wiki/Tower_of_Hanoi) is a famous puzzle where we have three rods and **N** disks. The objective of the puzzle is to move the entire stack to another rod. You are given the number of discs **N**. Initially, these discs are in the rod 1. You need to print all the steps of discs movement so that all the discs reach the 3rd rod. Also, you need to find the total moves.**Note:** The discs are arranged such that the **top disc is numbered 1** and the **bottom-most disc is numbered N**. Also, all the discs have **different sizes** and a bigger disc **cannot** be put on the top of a smaller disc. Refer the provided link to get a better clarity about the puzzle.\n",
    "\n",
    "**Example 1:**\n",
    "\n",
    "```\n",
    "Input:\n",
    "N = 2\n",
    "Output:\n",
    "move disk 1 from rod 1 to rod 2\n",
    "move disk 2 from rod 1 to rod 3\n",
    "move disk 1 from rod 2 to rod 3\n",
    "3\n",
    "Explanation:For N=2 , steps will be\n",
    "as follows in the example and total\n",
    "3 steps will be taken.\n",
    "```\n",
    "\n",
    "**Example 2:**\n",
    "\n",
    "```\n",
    "Input:\n",
    "N = 3\n",
    "Output:\n",
    "move disk 1 from rod 1 to rod 3\n",
    "move disk 2 from rod 1 to rod 2\n",
    "move disk 1 from rod 3 to rod 2\n",
    "move disk 3 from rod 1 to rod 3\n",
    "move disk 1 from rod 2 to rod 1\n",
    "move disk 2 from rod 2 to rod 3\n",
    "move disk 1 from rod 1 to rod 3\n",
    "7\n",
    "Explanation:For N=3 , steps will be\n",
    "as follows in the example and total\n",
    "7 steps will be taken.\n",
    "```"
   ]
  },
  {
   "cell_type": "code",
   "execution_count": 11,
   "id": "e1bbd079",
   "metadata": {},
   "outputs": [
    {
     "name": "stdout",
     "output_type": "stream",
     "text": [
      "move disk 1 from rod 1 to rod 2\n",
      "move disk 2 from rod 1 to rod 3\n",
      "move disk 1 from rod 2 to rod 3\n",
      "3\n",
      "move disk 1 from rod 1 to rod 3\n",
      "move disk 2 from rod 1 to rod 2\n",
      "move disk 1 from rod 3 to rod 2\n",
      "move disk 3 from rod 1 to rod 3\n",
      "move disk 1 from rod 2 to rod 1\n",
      "move disk 2 from rod 2 to rod 3\n",
      "move disk 1 from rod 1 to rod 3\n",
      "7\n"
     ]
    }
   ],
   "source": [
    "def towerOfHanoi(N, src, aux, dest, moves):\n",
    "    if N == 1:\n",
    "        print(f\"move disk 1 from rod {src} to rod {dest}\")\n",
    "        moves += 1\n",
    "        return moves\n",
    "\n",
    "    moves = towerOfHanoi(N-1, src, dest, aux, moves)\n",
    "    print(f\"move disk {N} from rod {src} to rod {dest}\")\n",
    "    moves += 1\n",
    "    moves = towerOfHanoi(N-1, aux, src, dest, moves)\n",
    "\n",
    "    return moves\n",
    "\n",
    "def solveTowerOfHanoi(N):\n",
    "    moves = 0\n",
    "    moves = towerOfHanoi(N, 1, 2, 3, moves)\n",
    "    return moves\n",
    "\n",
    "print(solveTowerOfHanoi(2))\n",
    "print(solveTowerOfHanoi(3))"
   ]
  },
  {
   "cell_type": "markdown",
   "id": "fed66750",
   "metadata": {},
   "source": [
    "### Question 7\n",
    "\n",
    "Given a string **str**, the task is to print all the permutations of **str**. A **permutation** is an arrangement of all or part of a set of objects, with regard to the order of the arrangement. For instance, the words ‘bat’ and ‘tab’ represents two distinct permutation (or arrangements) of a similar three letter word.\n",
    "\n",
    "**Examples:**\n",
    "\n",
    "Input: str = “cd”\n",
    "\n",
    "\n",
    "**Output:** cd dc\n",
    "\n",
    "**Input:** str = “abb”\n",
    "\n",
    " **Output:** abb abb bab bba bab bba\n"
   ]
  },
  {
   "cell_type": "code",
   "execution_count": 12,
   "id": "253970d1",
   "metadata": {},
   "outputs": [
    {
     "name": "stdout",
     "output_type": "stream",
     "text": [
      "cd\n",
      "dc\n",
      "abb\n",
      "abb\n",
      "bab\n",
      "bba\n",
      "bab\n",
      "bba\n"
     ]
    }
   ],
   "source": [
    "def permute(str, prefix, remaining):\n",
    "    if len(remaining) == 0:\n",
    "        print(prefix)\n",
    "        return\n",
    "\n",
    "    for i in range(len(remaining)):\n",
    "        new_prefix = prefix + remaining[i]\n",
    "        new_remaining = remaining[:i] + remaining[i+1:]\n",
    "        permute(str, new_prefix, new_remaining)\n",
    "\n",
    "def printPermutations(str):\n",
    "    permute(str, \"\", str)\n",
    "    \n",
    "printPermutations(\"cd\")\n",
    "printPermutations(\"abb\")\n"
   ]
  },
  {
   "cell_type": "markdown",
   "id": "0cebce7d",
   "metadata": {},
   "source": [
    "### Question 8\n",
    "\n",
    "Given a string, count total number of consonants in it. A consonant is an English alphabet character that is not vowel (a, e, i, o and u). Examples of constants are b, c, d, f, and g.\n",
    "\n",
    "**Examples :**\n",
    "\n",
    "```\n",
    "Input : abc de\n",
    "Output : 3\n",
    "There are three consonants b, c and d.\n",
    "\n",
    "Input : geeksforgeeks portal\n",
    "Output : 12\n",
    "```"
   ]
  },
  {
   "cell_type": "code",
   "execution_count": 13,
   "id": "c2d293ba",
   "metadata": {},
   "outputs": [
    {
     "name": "stdout",
     "output_type": "stream",
     "text": [
      "3\n",
      "12\n"
     ]
    }
   ],
   "source": [
    "def countConsonants(string):\n",
    "    count = 0\n",
    "    vowels = ['a', 'e', 'i', 'o', 'u']\n",
    "    string = string.lower()\n",
    "\n",
    "    for c in string:\n",
    "        if c.isalpha() and c not in vowels:\n",
    "            count += 1\n",
    "\n",
    "    return count\n",
    "\n",
    "print(countConsonants(\"abc de\"))  # Output: 3\n",
    "print(countConsonants(\"geeksforgeeks portal\"))  # Output: 12"
   ]
  },
  {
   "cell_type": "code",
   "execution_count": null,
   "id": "9a9b2db0",
   "metadata": {},
   "outputs": [],
   "source": []
  }
 ],
 "metadata": {
  "kernelspec": {
   "display_name": "Python 3 (ipykernel)",
   "language": "python",
   "name": "python3"
  },
  "language_info": {
   "codemirror_mode": {
    "name": "ipython",
    "version": 3
   },
   "file_extension": ".py",
   "mimetype": "text/x-python",
   "name": "python",
   "nbconvert_exporter": "python",
   "pygments_lexer": "ipython3",
   "version": "3.9.16"
  }
 },
 "nbformat": 4,
 "nbformat_minor": 5
}
